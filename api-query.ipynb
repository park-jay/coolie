{
 "cells": [
  {
   "cell_type": "code",
   "execution_count": 2,
   "metadata": {},
   "outputs": [],
   "source": [
    "import requests\n",
    "import time\n",
    "from datetime import timedelta\n",
    "from datetime import datetime\n",
    "import pandas as pd\n",
    "import urllib.request\n",
    "from tqdm import tqdm\n",
    "import json\n",
    "import asyncio\n",
    "import numpy as np\n",
    "import os\n",
    "from nltk import sent_tokenize\n",
    "from nltk import word_tokenize"
   ]
  },
  {
   "cell_type": "code",
   "execution_count": 47,
   "metadata": {},
   "outputs": [
    {
     "name": "stderr",
     "output_type": "stream",
     "text": [
      "100%|██████████| 6227/6227 [3:53:49<00:00,  2.25s/it]  \n"
     ]
    }
   ],
   "source": [
    "def scrape_and_save_data(pageno):\n",
    "    city = []\n",
    "    state = []\n",
    "    date = []\n",
    "    lccn = []\n",
    "    text = []\n",
    "    title = []\n",
    "\n",
    "    try:\n",
    "        r = s.get(f'https://chroniclingamerica.loc.gov/search/pages/results/?andtext=coolie&format=json&page={pageno}', timeout=5)\n",
    "        r.raise_for_status()  # Check if the request was successful\n",
    "        data = r.json()\n",
    "\n",
    "        for item in data.get('items', []):\n",
    "            city.append(item.get('city', np.nan))\n",
    "            date.append(item.get('date', np.nan))\n",
    "            state.append(item.get('state', np.nan))\n",
    "            lccn.append(item.get('lccn', np.nan))\n",
    "            text.append(item.get('ocr_eng', np.nan))\n",
    "            title.append(item.get('title', np.nan))\n",
    "\n",
    "        df = pd.DataFrame({\n",
    "            'city': city,\n",
    "            'state': state,\n",
    "            'date': date,\n",
    "            'lCCN': lccn,\n",
    "            'text': text,\n",
    "            'title': title\n",
    "        })\n",
    "\n",
    "        output_dir =  '/Users/mstudio/Library/CloudStorage/Box-Box/coolie/raw-data/'\n",
    "        os.makedirs(output_dir, exist_ok=True)\n",
    "        df.to_csv(f'{output_dir}coolie_{pageno}.csv', index=False)\n",
    "        time.sleep(30)\n",
    "    except requests.exceptions.RequestException as e:\n",
    "        # print(f\"Error: {e}\")\n",
    "        failed_page.append(pageno)\n",
    "\n",
    "failed_page = []\n",
    "s = requests.Session()\n",
    "\n",
    "for pageno in tqdm(range(int(np.round(124511 / 20)) + 1)): #6226\n",
    "    no = pageno+1\n",
    "    if str(no) in [i.strip('coolie_').strip('.csv') for i in os.listdir('/Users/mstudio/Library/CloudStorage/Box-Box/coolie/raw-data/')]:\n",
    "        continue\n",
    "    else:\n",
    "        scrape_and_save_data(no)\n"
   ]
  },
  {
   "cell_type": "code",
   "execution_count": 11,
   "metadata": {},
   "outputs": [],
   "source": [
    "def keyword_search(df: pd.DataFrame, substring: str):\n",
    "    state = []\n",
    "    city = []\n",
    "    date = []\n",
    "    lccn = []\n",
    "    sent_list = []\n",
    "    title = []\n",
    "    context_list = []\n",
    "\n",
    "    for idx, val in df.iterrows():\n",
    "        tokenized_sent = sent_tokenize(val['text'].lower())\n",
    "        matching_items = [item for item in tokenized_sent if substring in item]\n",
    "        to_context = []\n",
    "        for num, sent in enumerate(tokenized_sent):\n",
    "            interim_to_context = []\n",
    "            if substring in sent:\n",
    "                interim_to_context.extend(tokenized_sent[max(0, num - 2): num + 3])\n",
    "                to_context.append(interim_to_context)\n",
    "\n",
    "        state.append(val['state'])\n",
    "        city.append(val['city'])\n",
    "        date.append(val['date'])\n",
    "        lccn.append(val['lCCN'])\n",
    "        title.append(val['title'])\n",
    "        sent_list.append(matching_items)\n",
    "        context_list.append(to_context)\n",
    "\n",
    "    newdf = pd.DataFrame({'state': state, 'city': city, 'date': date, 'lccn': lccn, 'sent': sent_list, 'title': title, 'context': context_list})\n",
    "    return newdf"
   ]
  },
  {
   "cell_type": "code",
   "execution_count": 24,
   "metadata": {},
   "outputs": [
    {
     "name": "stderr",
     "output_type": "stream",
     "text": [
      "100%|██████████| 5499/5499 [08:55<00:00, 10.27it/s]\n"
     ]
    }
   ],
   "source": [
    "path='/Users/mstudio/Library/CloudStorage/Box-Box/coolie/raw-data/'\n",
    "append_df=[]\n",
    "for i in tqdm(os.listdir(path)):\n",
    "    if i.startswith('._'):\n",
    "        continue\n",
    "    elif i.endswith('.csv'):\n",
    "        df=pd.read_csv(path+i)\n",
    "        df['text']=df['text'].astype(str)\n",
    "        newdf=keyword_search(df, 'coolie')\n",
    "        lendf=newdf[newdf['sent'].apply(lambda x: len(x) > 0)]\n",
    "        append_df.append(lendf)\n"
   ]
  },
  {
   "cell_type": "code",
   "execution_count": 26,
   "metadata": {},
   "outputs": [],
   "source": [
    "cooliedf=pd.concat(append_df).reset_index(drop=True)\n",
    "cooliedf=cooliedf.explode(['sent', 'context'], ignore_index=True)\n",
    "# cooliedf['lccn']=cooliedf['lccn'].astype(str)"
   ]
  },
  {
   "cell_type": "code",
   "execution_count": 33,
   "metadata": {},
   "outputs": [
    {
     "data": {
      "text/html": [
       "<div>\n",
       "<style scoped>\n",
       "    .dataframe tbody tr th:only-of-type {\n",
       "        vertical-align: middle;\n",
       "    }\n",
       "\n",
       "    .dataframe tbody tr th {\n",
       "        vertical-align: top;\n",
       "    }\n",
       "\n",
       "    .dataframe thead th {\n",
       "        text-align: right;\n",
       "    }\n",
       "</style>\n",
       "<table border=\"1\" class=\"dataframe\">\n",
       "  <thead>\n",
       "    <tr style=\"text-align: right;\">\n",
       "      <th></th>\n",
       "      <th>state</th>\n",
       "      <th>city</th>\n",
       "      <th>date</th>\n",
       "      <th>lccn</th>\n",
       "      <th>sent</th>\n",
       "      <th>title</th>\n",
       "      <th>context</th>\n",
       "    </tr>\n",
       "  </thead>\n",
       "  <tbody>\n",
       "    <tr>\n",
       "      <th>0</th>\n",
       "      <td>['New York']</td>\n",
       "      <td>['New York']</td>\n",
       "      <td>18910826</td>\n",
       "      <td>sn83030193</td>\n",
       "      <td>cholera breaks out on a steamer\\nladen with oh...</td>\n",
       "      <td>The evening world. [volume]</td>\n",
       "      <td>[sessions., m m\\ncruise oe a death ship., chol...</td>\n",
       "    </tr>\n",
       "    <tr>\n",
       "      <th>1</th>\n",
       "      <td>['New York']</td>\n",
       "      <td>['New York']</td>\n",
       "      <td>18910826</td>\n",
       "      <td>sn83030193</td>\n",
       "      <td>atlt ices from\\nslngnporo state that tho steam...</td>\n",
       "      <td>The evening world. [volume]</td>\n",
       "      <td>[san i'iuxcisco, aug., !'!!., atlt ices from\\n...</td>\n",
       "    </tr>\n",
       "    <tr>\n",
       "      <th>2</th>\n",
       "      <td>['Montana']</td>\n",
       "      <td>['Butte']</td>\n",
       "      <td>18830407</td>\n",
       "      <td>sn84036033</td>\n",
       "      <td>therefore, it is not\\nsurprising that the auth...</td>\n",
       "      <td>The semi-weekly miner. [volume]</td>\n",
       "      <td>[at present the miserable\\nkanakas are but one...</td>\n",
       "    </tr>\n",
       "    <tr>\n",
       "      <th>3</th>\n",
       "      <td>['Montana']</td>\n",
       "      <td>['Butte']</td>\n",
       "      <td>18830407</td>\n",
       "      <td>sn84036033</td>\n",
       "      <td>kanakas want coolies.</td>\n",
       "      <td>The semi-weekly miner. [volume]</td>\n",
       "      <td>[great excitement prevails, and it., is\\nbelie...</td>\n",
       "    </tr>\n",
       "  </tbody>\n",
       "</table>\n",
       "</div>"
      ],
      "text/plain": [
       "          state          city      date        lccn  \\\n",
       "0  ['New York']  ['New York']  18910826  sn83030193   \n",
       "1  ['New York']  ['New York']  18910826  sn83030193   \n",
       "2   ['Montana']     ['Butte']  18830407  sn84036033   \n",
       "3   ['Montana']     ['Butte']  18830407  sn84036033   \n",
       "\n",
       "                                                sent  \\\n",
       "0  cholera breaks out on a steamer\\nladen with oh...   \n",
       "1  atlt ices from\\nslngnporo state that tho steam...   \n",
       "2  therefore, it is not\\nsurprising that the auth...   \n",
       "3                              kanakas want coolies.   \n",
       "\n",
       "                             title  \\\n",
       "0      The evening world. [volume]   \n",
       "1      The evening world. [volume]   \n",
       "2  The semi-weekly miner. [volume]   \n",
       "3  The semi-weekly miner. [volume]   \n",
       "\n",
       "                                             context  \n",
       "0  [sessions., m m\\ncruise oe a death ship., chol...  \n",
       "1  [san i'iuxcisco, aug., !'!!., atlt ices from\\n...  \n",
       "2  [at present the miserable\\nkanakas are but one...  \n",
       "3  [great excitement prevails, and it., is\\nbelie...  "
      ]
     },
     "execution_count": 33,
     "metadata": {},
     "output_type": "execute_result"
    }
   ],
   "source": [
    "cooliedf.head(4)"
   ]
  },
  {
   "cell_type": "code",
   "execution_count": 29,
   "metadata": {},
   "outputs": [],
   "source": [
    "cooliedf.to_csv(path+'../'+'/sent/'+'coolie.csv', index=False)"
   ]
  },
  {
   "cell_type": "code",
   "execution_count": 34,
   "metadata": {},
   "outputs": [
    {
     "data": {
      "text/plain": [
       "(118054, 7)"
      ]
     },
     "execution_count": 34,
     "metadata": {},
     "output_type": "execute_result"
    }
   ],
   "source": [
    "cooliedf.shape"
   ]
  }
 ],
 "metadata": {
  "kernelspec": {
   "display_name": "coolie",
   "language": "python",
   "name": "python3"
  },
  "language_info": {
   "codemirror_mode": {
    "name": "ipython",
    "version": 3
   },
   "file_extension": ".py",
   "mimetype": "text/x-python",
   "name": "python",
   "nbconvert_exporter": "python",
   "pygments_lexer": "ipython3",
   "version": "3.10.9"
  },
  "orig_nbformat": 4
 },
 "nbformat": 4,
 "nbformat_minor": 2
}
