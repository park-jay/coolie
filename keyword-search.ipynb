{
 "cells": [
  {
   "cell_type": "code",
   "execution_count": 1,
   "metadata": {},
   "outputs": [],
   "source": [
    "import requests\n",
    "import time\n",
    "from datetime import timedelta\n",
    "from datetime import datetime\n",
    "import pandas as pd\n",
    "import urllib.request\n",
    "from tqdm import tqdm\n",
    "import json\n",
    "import asyncio\n",
    "import numpy as np\n",
    "import os\n",
    "from nltk import sent_tokenize\n",
    "from nltk import word_tokenize"
   ]
  },
  {
   "cell_type": "code",
   "execution_count": 12,
   "metadata": {},
   "outputs": [],
   "source": [
    "import pandas as pd\n",
    "from nltk.tokenize import word_tokenize\n",
    "\n",
    "def keyword_search(df: pd.DataFrame, substring: str):\n",
    "    state = []\n",
    "    city = []\n",
    "    date = []\n",
    "    lccn = []\n",
    "    sent_list = []\n",
    "    title = []\n",
    "    # context_list = []\n",
    "\n",
    "    for idx, val in df.iterrows():\n",
    "        tokenized_word = word_tokenize(val['text'].lower())\n",
    "        matching_items = [(substring, idx + i) for i, item in enumerate(tokenized_word) if substring in item]\n",
    "        to_context = []\n",
    "\n",
    "        for num, sent in enumerate(tokenized_word):\n",
    "            interim_to_context = []\n",
    "            if substring in sent:\n",
    "                start_idx = max(0, num - 10)\n",
    "                end_idx = min(len(tokenized_word), num + 11)\n",
    "                context = [tokenized_word[i] for i in range(start_idx, end_idx)]\n",
    "                interim_to_context.extend(context)\n",
    "                to_context.append(interim_to_context)\n",
    "\n",
    "        state.append(val['state'])\n",
    "        city.append(val['city'])\n",
    "        date.append(val['date'])\n",
    "        lccn.append(val['lCCN'])\n",
    "        title.append(val['title'])\n",
    "        sent_list.append(to_context)  # Store the surrounding tokens in sent_list\n",
    "        # context_list.append(to_context)\n",
    "\n",
    "    newdf = pd.DataFrame({'state': state, 'city': city, 'date': date, 'lccn': lccn, 'sent': sent_list, 'title': title})#, 'context': context_list})\n",
    "    return newdf\n"
   ]
  },
  {
   "cell_type": "code",
   "execution_count": 20,
   "metadata": {},
   "outputs": [
    {
     "name": "stderr",
     "output_type": "stream",
     "text": [
      "100%|██████████| 5499/5499 [32:19<00:00,  2.84it/s]\n"
     ]
    }
   ],
   "source": [
    "path='/Users/mstudio/Library/CloudStorage/Box-Box/coolie/raw-data/'\n",
    "append_df=[]\n",
    "for i in tqdm(os.listdir(path)):\n",
    "    if i.startswith('._'):\n",
    "        continue\n",
    "    elif i.endswith('.csv'):\n",
    "        df=pd.read_csv(path+i)\n",
    "        df['text']=df['text'].astype(str)\n",
    "        newdf=keyword_search(df, 'coolie')\n",
    "        lendf=newdf[newdf['sent'].apply(lambda x: len(x) > 0)]\n",
    "        append_df.append(lendf)"
   ]
  },
  {
   "cell_type": "code",
   "execution_count": 21,
   "metadata": {},
   "outputs": [],
   "source": [
    "cooliedf=pd.concat(append_df).reset_index(drop=True)\n",
    "cooliedf=cooliedf.explode(['sent', 'context'], ignore_index=True)\n",
    "# cooliedf['lccn']=cooliedf['lccn'].astype(str)"
   ]
  },
  {
   "cell_type": "code",
   "execution_count": 31,
   "metadata": {},
   "outputs": [],
   "source": [
    "cooliedf.to_csv(path+'../'+'/token/'+'coolie-token.csv', index=False)"
   ]
  },
  {
   "cell_type": "code",
   "execution_count": 32,
   "metadata": {},
   "outputs": [
    {
     "data": {
      "text/plain": [
       "(125253, 6)"
      ]
     },
     "execution_count": 32,
     "metadata": {},
     "output_type": "execute_result"
    }
   ],
   "source": [
    "cooliedf.shape"
   ]
  }
 ],
 "metadata": {
  "kernelspec": {
   "display_name": "coolie",
   "language": "python",
   "name": "python3"
  },
  "language_info": {
   "codemirror_mode": {
    "name": "ipython",
    "version": 3
   },
   "file_extension": ".py",
   "mimetype": "text/x-python",
   "name": "python",
   "nbconvert_exporter": "python",
   "pygments_lexer": "ipython3",
   "version": "3.11.0"
  },
  "orig_nbformat": 4
 },
 "nbformat": 4,
 "nbformat_minor": 2
}
